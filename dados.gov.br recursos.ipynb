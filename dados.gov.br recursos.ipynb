{
 "cells": [
  {
   "cell_type": "code",
   "execution_count": 7,
   "metadata": {},
   "outputs": [],
   "source": [
    "import pandas as pd\n",
    "import matplotlib.pyplot as plt"
   ]
  },
  {
   "cell_type": "code",
   "execution_count": 2,
   "metadata": {},
   "outputs": [
    {
     "name": "stderr",
     "output_type": "stream",
     "text": [
      "/home/chris/anaconda3/lib/python3.6/site-packages/IPython/core/interactiveshell.py:2785: DtypeWarning: Columns (1,2,3,10,19,26) have mixed types. Specify dtype option on import or set low_memory=False.\n",
      "  interactivity=interactivity, compiler=compiler, result=result)\n"
     ]
    }
   ],
   "source": [
    "df = pd.read_csv(\"dadosgovbr-recursos.csv\")"
   ]
  },
  {
   "cell_type": "code",
   "execution_count": 4,
   "metadata": {},
   "outputs": [
    {
     "data": {
      "text/plain": [
       "(34513, 29)"
      ]
     },
     "execution_count": 4,
     "metadata": {},
     "output_type": "execute_result"
    }
   ],
   "source": [
    "df.shape"
   ]
  },
  {
   "cell_type": "code",
   "execution_count": 5,
   "metadata": {},
   "outputs": [
    {
     "data": {
      "text/plain": [
       "Index(['Unnamed: 0', 'Descrição extendida', 'Fonte Gestora', 'Fonte Provedora',\n",
       "       'cache_last_updated', 'cache_url', 'created', 'datastore_active',\n",
       "       'description', 'format', 'hash', 'id', 'last_modified', 'mimetype',\n",
       "       'mimetype_inner', 'name', 'package_id', 'platform', 'position',\n",
       "       'resource_group', 'resource_group_id', 'resource_type', 'revision_id',\n",
       "       'size', 'state', 'url', 'url_type', 'webstore_last_updated',\n",
       "       'webstore_url'],\n",
       "      dtype='object')"
      ]
     },
     "execution_count": 5,
     "metadata": {},
     "output_type": "execute_result"
    }
   ],
   "source": [
    "df.columns"
   ]
  },
  {
   "cell_type": "code",
   "execution_count": 6,
   "metadata": {},
   "outputs": [
    {
     "data": {
      "text/html": [
       "<div>\n",
       "<style scoped>\n",
       "    .dataframe tbody tr th:only-of-type {\n",
       "        vertical-align: middle;\n",
       "    }\n",
       "\n",
       "    .dataframe tbody tr th {\n",
       "        vertical-align: top;\n",
       "    }\n",
       "\n",
       "    .dataframe thead th {\n",
       "        text-align: right;\n",
       "    }\n",
       "</style>\n",
       "<table border=\"1\" class=\"dataframe\">\n",
       "  <thead>\n",
       "    <tr style=\"text-align: right;\">\n",
       "      <th></th>\n",
       "      <th>Unnamed: 0</th>\n",
       "      <th>Descrição extendida</th>\n",
       "      <th>Fonte Gestora</th>\n",
       "      <th>Fonte Provedora</th>\n",
       "      <th>cache_last_updated</th>\n",
       "      <th>cache_url</th>\n",
       "      <th>created</th>\n",
       "      <th>datastore_active</th>\n",
       "      <th>description</th>\n",
       "      <th>format</th>\n",
       "      <th>...</th>\n",
       "      <th>resource_group</th>\n",
       "      <th>resource_group_id</th>\n",
       "      <th>resource_type</th>\n",
       "      <th>revision_id</th>\n",
       "      <th>size</th>\n",
       "      <th>state</th>\n",
       "      <th>url</th>\n",
       "      <th>url_type</th>\n",
       "      <th>webstore_last_updated</th>\n",
       "      <th>webstore_url</th>\n",
       "    </tr>\n",
       "  </thead>\n",
       "  <tbody>\n",
       "    <tr>\n",
       "      <th>0</th>\n",
       "      <td>0</td>\n",
       "      <td>NaN</td>\n",
       "      <td>NaN</td>\n",
       "      <td>NaN</td>\n",
       "      <td>NaN</td>\n",
       "      <td>NaN</td>\n",
       "      <td>2017-12-05T10:30:28.187456</td>\n",
       "      <td>False</td>\n",
       "      <td>Interface json do serviço BCData/SGS - Sistema...</td>\n",
       "      <td>JSON</td>\n",
       "      <td>...</td>\n",
       "      <td>NaN</td>\n",
       "      <td>NaN</td>\n",
       "      <td>NaN</td>\n",
       "      <td>c8c65b06-a069-4a27-886a-9a3b8c9df44c</td>\n",
       "      <td>NaN</td>\n",
       "      <td>active</td>\n",
       "      <td>http://api.bcb.gov.br/dados/serie/bcdata.sgs.1...</td>\n",
       "      <td>NaN</td>\n",
       "      <td>None</td>\n",
       "      <td>None</td>\n",
       "    </tr>\n",
       "    <tr>\n",
       "      <th>1</th>\n",
       "      <td>1</td>\n",
       "      <td>NaN</td>\n",
       "      <td>NaN</td>\n",
       "      <td>NaN</td>\n",
       "      <td>NaN</td>\n",
       "      <td>NaN</td>\n",
       "      <td>2017-12-05T10:30:28.187469</td>\n",
       "      <td>True</td>\n",
       "      <td>Interface csv do serviço BCData/SGS - Sistema ...</td>\n",
       "      <td>CSV</td>\n",
       "      <td>...</td>\n",
       "      <td>NaN</td>\n",
       "      <td>NaN</td>\n",
       "      <td>NaN</td>\n",
       "      <td>c8c65b06-a069-4a27-886a-9a3b8c9df44c</td>\n",
       "      <td>NaN</td>\n",
       "      <td>active</td>\n",
       "      <td>http://api.bcb.gov.br/dados/serie/bcdata.sgs.1...</td>\n",
       "      <td>NaN</td>\n",
       "      <td>None</td>\n",
       "      <td>None</td>\n",
       "    </tr>\n",
       "    <tr>\n",
       "      <th>2</th>\n",
       "      <td>2</td>\n",
       "      <td>NaN</td>\n",
       "      <td>NaN</td>\n",
       "      <td>NaN</td>\n",
       "      <td>NaN</td>\n",
       "      <td>NaN</td>\n",
       "      <td>2017-12-05T10:30:28.187472</td>\n",
       "      <td>False</td>\n",
       "      <td>Interface SOAP do Sistema Gerenciador de Série...</td>\n",
       "      <td>wsdl</td>\n",
       "      <td>...</td>\n",
       "      <td>NaN</td>\n",
       "      <td>NaN</td>\n",
       "      <td>NaN</td>\n",
       "      <td>c8c65b06-a069-4a27-886a-9a3b8c9df44c</td>\n",
       "      <td>NaN</td>\n",
       "      <td>active</td>\n",
       "      <td>https://www3.bcb.gov.br/sgspub/JSP/sgsgeral/Fa...</td>\n",
       "      <td>NaN</td>\n",
       "      <td>None</td>\n",
       "      <td>None</td>\n",
       "    </tr>\n",
       "    <tr>\n",
       "      <th>3</th>\n",
       "      <td>3</td>\n",
       "      <td>NaN</td>\n",
       "      <td>NaN</td>\n",
       "      <td>NaN</td>\n",
       "      <td>NaN</td>\n",
       "      <td>NaN</td>\n",
       "      <td>2017-12-05T10:30:28.187475</td>\n",
       "      <td>False</td>\n",
       "      <td>Acesso à visualização gráfica da série tempora...</td>\n",
       "      <td>HTML</td>\n",
       "      <td>...</td>\n",
       "      <td>NaN</td>\n",
       "      <td>NaN</td>\n",
       "      <td>NaN</td>\n",
       "      <td>c8c65b06-a069-4a27-886a-9a3b8c9df44c</td>\n",
       "      <td>NaN</td>\n",
       "      <td>active</td>\n",
       "      <td>https://www3.bcb.gov.br/sgspub/consultarvalore...</td>\n",
       "      <td>NaN</td>\n",
       "      <td>None</td>\n",
       "      <td>None</td>\n",
       "    </tr>\n",
       "    <tr>\n",
       "      <th>4</th>\n",
       "      <td>4</td>\n",
       "      <td>NaN</td>\n",
       "      <td>NaN</td>\n",
       "      <td>NaN</td>\n",
       "      <td>NaN</td>\n",
       "      <td>NaN</td>\n",
       "      <td>2017-12-05T10:30:28.183034</td>\n",
       "      <td>False</td>\n",
       "      <td>Interface json do serviço BCData/SGS - Sistema...</td>\n",
       "      <td>JSON</td>\n",
       "      <td>...</td>\n",
       "      <td>NaN</td>\n",
       "      <td>NaN</td>\n",
       "      <td>NaN</td>\n",
       "      <td>321f8aaa-ae3f-4389-abeb-c4226ccf1c3a</td>\n",
       "      <td>NaN</td>\n",
       "      <td>active</td>\n",
       "      <td>http://api.bcb.gov.br/dados/serie/bcdata.sgs.1...</td>\n",
       "      <td>NaN</td>\n",
       "      <td>None</td>\n",
       "      <td>None</td>\n",
       "    </tr>\n",
       "  </tbody>\n",
       "</table>\n",
       "<p>5 rows × 29 columns</p>\n",
       "</div>"
      ],
      "text/plain": [
       "   Unnamed: 0 Descrição extendida Fonte Gestora Fonte Provedora  \\\n",
       "0           0                 NaN           NaN             NaN   \n",
       "1           1                 NaN           NaN             NaN   \n",
       "2           2                 NaN           NaN             NaN   \n",
       "3           3                 NaN           NaN             NaN   \n",
       "4           4                 NaN           NaN             NaN   \n",
       "\n",
       "   cache_last_updated  cache_url                     created datastore_active  \\\n",
       "0                 NaN        NaN  2017-12-05T10:30:28.187456            False   \n",
       "1                 NaN        NaN  2017-12-05T10:30:28.187469             True   \n",
       "2                 NaN        NaN  2017-12-05T10:30:28.187472            False   \n",
       "3                 NaN        NaN  2017-12-05T10:30:28.187475            False   \n",
       "4                 NaN        NaN  2017-12-05T10:30:28.183034            False   \n",
       "\n",
       "                                         description format     ...       \\\n",
       "0  Interface json do serviço BCData/SGS - Sistema...   JSON     ...        \n",
       "1  Interface csv do serviço BCData/SGS - Sistema ...    CSV     ...        \n",
       "2  Interface SOAP do Sistema Gerenciador de Série...   wsdl     ...        \n",
       "3  Acesso à visualização gráfica da série tempora...   HTML     ...        \n",
       "4  Interface json do serviço BCData/SGS - Sistema...   JSON     ...        \n",
       "\n",
       "  resource_group resource_group_id resource_type  \\\n",
       "0            NaN               NaN           NaN   \n",
       "1            NaN               NaN           NaN   \n",
       "2            NaN               NaN           NaN   \n",
       "3            NaN               NaN           NaN   \n",
       "4            NaN               NaN           NaN   \n",
       "\n",
       "                            revision_id size   state  \\\n",
       "0  c8c65b06-a069-4a27-886a-9a3b8c9df44c  NaN  active   \n",
       "1  c8c65b06-a069-4a27-886a-9a3b8c9df44c  NaN  active   \n",
       "2  c8c65b06-a069-4a27-886a-9a3b8c9df44c  NaN  active   \n",
       "3  c8c65b06-a069-4a27-886a-9a3b8c9df44c  NaN  active   \n",
       "4  321f8aaa-ae3f-4389-abeb-c4226ccf1c3a  NaN  active   \n",
       "\n",
       "                                                 url url_type  \\\n",
       "0  http://api.bcb.gov.br/dados/serie/bcdata.sgs.1...      NaN   \n",
       "1  http://api.bcb.gov.br/dados/serie/bcdata.sgs.1...      NaN   \n",
       "2  https://www3.bcb.gov.br/sgspub/JSP/sgsgeral/Fa...      NaN   \n",
       "3  https://www3.bcb.gov.br/sgspub/consultarvalore...      NaN   \n",
       "4  http://api.bcb.gov.br/dados/serie/bcdata.sgs.1...      NaN   \n",
       "\n",
       "   webstore_last_updated webstore_url  \n",
       "0                   None         None  \n",
       "1                   None         None  \n",
       "2                   None         None  \n",
       "3                   None         None  \n",
       "4                   None         None  \n",
       "\n",
       "[5 rows x 29 columns]"
      ]
     },
     "execution_count": 6,
     "metadata": {},
     "output_type": "execute_result"
    }
   ],
   "source": [
    "df.head()"
   ]
  },
  {
   "cell_type": "code",
   "execution_count": 12,
   "metadata": {},
   "outputs": [
    {
     "data": {
      "text/plain": [
       "<matplotlib.axes._subplots.AxesSubplot at 0x7fdad7e4e710>"
      ]
     },
     "execution_count": 12,
     "metadata": {},
     "output_type": "execute_result"
    },
    {
     "data": {
      "image/png": "[encoded data removed]",
      "text/plain": [
       "<Figure size 432x288 with 1 Axes>"
      ]
     },
     "metadata": {},
     "output_type": "display_data"
    }
   ],
   "source": [
    "df.format.value_counts()[:20].plot.bar()"
   ]
  },
  {
   "cell_type": "code",
   "execution_count": 29,
   "metadata": {},
   "outputs": [
    {
     "data": {
      "text/plain": [
       "6649"
      ]
     },
     "execution_count": 29,
     "metadata": {},
     "output_type": "execute_result"
    }
   ],
   "source": [
    "df.package_id.nunique()"
   ]
  },
  {
   "cell_type": "code",
   "execution_count": 31,
   "metadata": {},
   "outputs": [],
   "source": [
    "df.created = pd.to_datetime(df.created,infer_datetime_format=True)"
   ]
  },
  {
   "cell_type": "code",
   "execution_count": 39,
   "metadata": {},
   "outputs": [],
   "source": [
    "df = df.set_index(df.created)"
   ]
  },
  {
   "cell_type": "code",
   "execution_count": 44,
   "metadata": {},
   "outputs": [],
   "source": [
    "df_inserts = pd.DataFrame(df.groupby(df.index.date).count())"
   ]
  },
  {
   "cell_type": "code",
   "execution_count": 46,
   "metadata": {},
   "outputs": [],
   "source": [
    "df_inserts[\"quantidade\"] = df_inserts[\"Unnamed: 0\"]"
   ]
  },
  {
   "cell_type": "code",
   "execution_count": 48,
   "metadata": {},
   "outputs": [],
   "source": [
    "df_inserts = df_inserts[['quantidade']]"
   ]
  },
  {
   "cell_type": "code",
   "execution_count": 50,
   "metadata": {},
   "outputs": [
    {
     "data": {
      "text/html": [
       "<div>\n",
       "<style scoped>\n",
       "    .dataframe tbody tr th:only-of-type {\n",
       "        vertical-align: middle;\n",
       "    }\n",
       "\n",
       "    .dataframe tbody tr th {\n",
       "        vertical-align: top;\n",
       "    }\n",
       "\n",
       "    .dataframe thead th {\n",
       "        text-align: right;\n",
       "    }\n",
       "</style>\n",
       "<table border=\"1\" class=\"dataframe\">\n",
       "  <thead>\n",
       "    <tr style=\"text-align: right;\">\n",
       "      <th></th>\n",
       "      <th>quantidade</th>\n",
       "    </tr>\n",
       "  </thead>\n",
       "  <tbody>\n",
       "    <tr>\n",
       "      <th>2012-05-22</th>\n",
       "      <td>2</td>\n",
       "    </tr>\n",
       "    <tr>\n",
       "      <th>2012-06-15</th>\n",
       "      <td>1</td>\n",
       "    </tr>\n",
       "    <tr>\n",
       "      <th>2012-06-21</th>\n",
       "      <td>46</td>\n",
       "    </tr>\n",
       "    <tr>\n",
       "      <th>2012-06-25</th>\n",
       "      <td>15</td>\n",
       "    </tr>\n",
       "    <tr>\n",
       "      <th>2012-10-26</th>\n",
       "      <td>17</td>\n",
       "    </tr>\n",
       "  </tbody>\n",
       "</table>\n",
       "</div>"
      ],
      "text/plain": [
       "            quantidade\n",
       "2012-05-22           2\n",
       "2012-06-15           1\n",
       "2012-06-21          46\n",
       "2012-06-25          15\n",
       "2012-10-26          17"
      ]
     },
     "execution_count": 50,
     "metadata": {},
     "output_type": "execute_result"
    }
   ],
   "source": [
    "df_inserts.head()"
   ]
  },
  {
   "cell_type": "code",
   "execution_count": 61,
   "metadata": {},
   "outputs": [
    {
     "name": "stderr",
     "output_type": "stream",
     "text": [
      "/home/chris/anaconda3/lib/python3.6/site-packages/ipykernel/__main__.py:1: SettingWithCopyWarning: \n",
      "A value is trying to be set on a copy of a slice from a DataFrame.\n",
      "Try using .loc[row_indexer,col_indexer] = value instead\n",
      "\n",
      "See the caveats in the documentation: http://pandas.pydata.org/pandas-docs/stable/indexing.html#indexing-view-versus-copy\n",
      "  if __name__ == '__main__':\n"
     ]
    }
   ],
   "source": [
    "df_inserts['soma'] = df_inserts.quantidade.cumsum()"
   ]
  },
  {
   "cell_type": "code",
   "execution_count": 63,
   "metadata": {},
   "outputs": [
    {
     "data": {
      "text/html": [
       "<div>\n",
       "<style scoped>\n",
       "    .dataframe tbody tr th:only-of-type {\n",
       "        vertical-align: middle;\n",
       "    }\n",
       "\n",
       "    .dataframe tbody tr th {\n",
       "        vertical-align: top;\n",
       "    }\n",
       "\n",
       "    .dataframe thead th {\n",
       "        text-align: right;\n",
       "    }\n",
       "</style>\n",
       "<table border=\"1\" class=\"dataframe\">\n",
       "  <thead>\n",
       "    <tr style=\"text-align: right;\">\n",
       "      <th></th>\n",
       "      <th>quantidade</th>\n",
       "      <th>soma</th>\n",
       "    </tr>\n",
       "  </thead>\n",
       "  <tbody>\n",
       "    <tr>\n",
       "      <th>2012-05-22</th>\n",
       "      <td>2</td>\n",
       "      <td>2</td>\n",
       "    </tr>\n",
       "    <tr>\n",
       "      <th>2012-06-15</th>\n",
       "      <td>1</td>\n",
       "      <td>3</td>\n",
       "    </tr>\n",
       "    <tr>\n",
       "      <th>2012-06-21</th>\n",
       "      <td>46</td>\n",
       "      <td>49</td>\n",
       "    </tr>\n",
       "    <tr>\n",
       "      <th>2012-06-25</th>\n",
       "      <td>15</td>\n",
       "      <td>64</td>\n",
       "    </tr>\n",
       "    <tr>\n",
       "      <th>2012-10-26</th>\n",
       "      <td>17</td>\n",
       "      <td>81</td>\n",
       "    </tr>\n",
       "  </tbody>\n",
       "</table>\n",
       "</div>"
      ],
      "text/plain": [
       "            quantidade  soma\n",
       "2012-05-22           2     2\n",
       "2012-06-15           1     3\n",
       "2012-06-21          46    49\n",
       "2012-06-25          15    64\n",
       "2012-10-26          17    81"
      ]
     },
     "execution_count": 63,
     "metadata": {},
     "output_type": "execute_result"
    }
   ],
   "source": [
    "df_inserts.head()"
   ]
  },
  {
   "cell_type": "code",
   "execution_count": 66,
   "metadata": {},
   "outputs": [
    {
     "data": {
      "text/plain": [
       "<matplotlib.axes._subplots.AxesSubplot at 0x7fdad7dee5f8>"
      ]
     },
     "execution_count": 66,
     "metadata": {},
     "output_type": "execute_result"
    },
    {
     "data": {
      "image/png": "[encoded data removed]",
      "text/plain": [
       "<Figure size 1440x720 with 1 Axes>"
      ]
     },
     "metadata": {},
     "output_type": "display_data"
    }
   ],
   "source": [
    "plt.figure(figsize=(20,10))\n",
    "df_inserts.soma.plot.line()"
   ]
  },
  {
   "cell_type": "code",
   "execution_count": null,
   "metadata": {},
   "outputs": [],
   "source": []
  }
 ],
 "metadata": {
  "kernelspec": {
   "display_name": "Python [conda env:anaconda3]",
   "language": "python",
   "name": "conda-env-anaconda3-py"
  },
  "language_info": {
   "codemirror_mode": {
    "name": "ipython",
    "version": 3
   },
   "file_extension": ".py",
   "mimetype": "text/x-python",
   "name": "python",
   "nbconvert_exporter": "python",
   "pygments_lexer": "ipython3",
   "version": "3.6.8"
  }
 },
 "nbformat": 4,
 "nbformat_minor": 2
}
